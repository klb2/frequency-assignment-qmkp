{
 "cells": [
  {
   "cell_type": "markdown",
   "metadata": {},
   "source": [
    "# Example Jupyter Notebook with Interactive Elements"
   ]
  },
  {
   "cell_type": "markdown",
   "metadata": {},
   "source": [
    "_Author:_ Karl-Ludwig Besser, Technische Universität Braunschweig, Germany\n",
    "\n",
    "This notebook is part of the paper \"Title\" (Authors, Journal, Year. [doi:XXX](https://doi.org/XXX)).  \n",
    "If you use any of this work, please cite the above paper."
   ]
  },
  {
   "cell_type": "markdown",
   "metadata": {},
   "source": [
    "> If you are not familiar with Jupyter notebooks: The easiest way to use this notebook interactively, is to hit `Kernel --> Restart & Run All` in the menu. The will execute all cells and enable the interactive elements of the plots.  \n",
    "> Alternatively, you can execute the cells one by one using Shift+Return"
   ]
  },
  {
   "cell_type": "code",
   "execution_count": null,
   "metadata": {},
   "outputs": [],
   "source": [
    "import numpy as np\n",
    "%matplotlib widget\n",
    "import matplotlib.pyplot as plt\n",
    "from ipywidgets import interact"
   ]
  },
  {
   "cell_type": "markdown",
   "metadata": {},
   "source": [
    "## Setup"
   ]
  },
  {
   "cell_type": "markdown",
   "metadata": {},
   "source": [
    "You should add some short explanations about the code and content that follows...\n",
    "\n",
    "Jupyter notebooks support **Markdown** and $\\LaTeX$.\n",
    "\n",
    "You can use inline formulas $f(x)=\\sin(x)$ and separated equations $$f(x)=\\sum_{i=1}^{n} i$$ and\n",
    "\\begin{equation}\n",
    "g = \\frac{\\partial f}{\\partial x}\n",
    "\\end{equation}\n",
    "\n",
    "\n",
    "For the interactive elements and plots, I use `ipywidgets` and `ipympl`."
   ]
  },
  {
   "cell_type": "code",
   "execution_count": null,
   "metadata": {},
   "outputs": [],
   "source": [
    "def example(num_samples=10):\n",
    "    x = np.linspace(0, 10, num_samples)\n",
    "    y = np.sin(x)\n",
    "    \n",
    "    fig, axs = plt.subplots()\n",
    "    plot = axs.plot(x, y)[0]\n",
    "    def update(noise_strength=.1):\n",
    "        noise = noise_strength*np.random.randn(len(y))\n",
    "        _y = y + noise\n",
    "        plot.set_ydata(_y)\n",
    "    interact(update, noise_strength=(0, 1, .1))"
   ]
  },
  {
   "cell_type": "code",
   "execution_count": null,
   "metadata": {},
   "outputs": [],
   "source": [
    "example(num_samples=100)"
   ]
  },
  {
   "cell_type": "code",
   "execution_count": null,
   "metadata": {},
   "outputs": [],
   "source": [
    "example(num_samples=1000)"
   ]
  }
 ],
 "metadata": {
  "kernelspec": {
   "display_name": "Python 3 (ipykernel)",
   "language": "python",
   "name": "python3"
  },
  "language_info": {
   "codemirror_mode": {
    "name": "ipython",
    "version": 3
   },
   "file_extension": ".py",
   "mimetype": "text/x-python",
   "name": "python",
   "nbconvert_exporter": "python",
   "pygments_lexer": "ipython3",
   "version": "3.10.1"
  }
 },
 "nbformat": 4,
 "nbformat_minor": 2
}
